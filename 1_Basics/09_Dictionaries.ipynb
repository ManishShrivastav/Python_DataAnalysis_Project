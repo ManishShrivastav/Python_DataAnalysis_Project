{
  "cells": [
    {
      "cell_type": "markdown",
      "metadata": {
        "id": "jMyH89VS5H7L"
      },
      "source": [
        "# Dictionaries\n",
        "\n"
      ]
    },
    {
      "cell_type": "markdown",
      "metadata": {
        "id": "ZGtdw1ooZhus"
      },
      "source": [
        "Here's a quick comparison between these 4 container data types:\n",
        "\n",
        "| Feature          | List                                  | Dictionary                           | Set                                | Tuple                             |\n",
        "|------------------|---------------------------------------|--------------------------------------|------------------------------------|-----------------------------------|\n",
        "| Syntax           | `[item1, item2, ...]`                 | `{'key1': value1, 'key2': value2}`   | `{item1, item2, ...}`              | `(item1, item2, ...)` or `item,`  |\n",
        "| Order            | Ordered                               | Unordered                            | Unordered                          | Ordered                           |\n",
        "| Indexing         | Yes (by index)                        | Yes (by key)                         | No                                 | Yes (by index)                    |\n",
        "| Duplicate Values | Allowed                               | Values can be duplicated, keys cannot| Not allowed                        | Allowed                           |\n",
        "| Mutability       | Mutable                               | Mutable                              | Mutable                            | Immutable                         |\n",
        "| Usage            | For a collection of ordered items     | For key-value pairs                  | For unique items                   | For fixed data                    |"
      ]
    },
    {
      "cell_type": "markdown",
      "metadata": {
        "id": "EbnEUhnwxYdG"
      },
      "source": [
        "## Notes\n",
        "\n",
        "* Used to store data values in *key:value* pairs.\n",
        "* It is:\n",
        "  * ordered (as of Python version 3.7)\n",
        "  * changeable\n",
        "  * Doesn't allow duplicates\n",
        "* Created using `{` and `}` and has keys and values.\n",
        "\n",
        "## Importance\n",
        "\n",
        "Useful for labeling data or creating pandas DataFrames (typically a .CSV file) with named columns, enhancing data readability."
      ]
    },
    {
      "cell_type": "markdown",
      "metadata": {
        "id": "EI11oKgAZhuu"
      },
      "source": [
        "## Create a Dictionary\n",
        "\n",
        "We'll create a dictionary of the type of data science skills. For example 'postgresql' is considered a 'database' skill. We will have the type of skill as the key, and then the actual skill as the value."
      ]
    },
    {
      "cell_type": "markdown",
      "metadata": {
        "id": "x4oPObBgWalF"
      },
      "source": [
        "🪲 **Debugging**\n",
        "\n",
        "**This is an intentional mistake**\n",
        "\n",
        "This is used to demonstrate debugging.\n",
        "\n",
        "Error: Forgot a comma `,` at the end of the second dictionary item.\n",
        "\n",
        "```\n",
        "'languages': 'python'\n",
        "```\n",
        "\n",
        "Steps to Debug:\n",
        "\n",
        "1. Look at the actual error, can you tell what the problem is?\n",
        "2. If not, then look it up:\n",
        "  1. Use a chatbot like ChatGPT or Claude\n",
        "  2. Look it up using Google"
      ]
    },
    {
      "cell_type": "code",
      "execution_count": 1,
      "metadata": {
        "colab": {
          "base_uri": "https://localhost:8080/",
          "height": 106
        },
        "id": "wynfsas1WZu8",
        "outputId": "c20ce842-2a61-472b-9c5c-5dd2ef5b4209"
      },
      "outputs": [
        {
          "ename": "SyntaxError",
          "evalue": "invalid syntax (2774884211.py, line 5)",
          "output_type": "error",
          "traceback": [
            "\u001b[1;36m  File \u001b[1;32m\"C:\\Users\\HOME\\AppData\\Local\\Temp\\ipykernel_8952\\2774884211.py\"\u001b[1;36m, line \u001b[1;32m5\u001b[0m\n\u001b[1;33m    'library': 'pandas'\u001b[0m\n\u001b[1;37m             ^\u001b[0m\n\u001b[1;31mSyntaxError\u001b[0m\u001b[1;31m:\u001b[0m invalid syntax\n"
          ]
        }
      ],
      "source": [
        "# Define a dictionary of data science skills\n",
        "job_type_skills = {\n",
        "    'database': 'postgresql',\n",
        "    'language': 'python'\n",
        "    'library': 'pandas'\n",
        "}\n",
        "\n",
        "job_type_skills"
      ]
    },
    {
      "cell_type": "markdown",
      "metadata": {
        "id": "9lzyOZjTWTIn"
      },
      "source": [
        "This is the correct code ✅."
      ]
    },
    {
      "cell_type": "code",
      "execution_count": 2,
      "metadata": {
        "colab": {
          "base_uri": "https://localhost:8080/"
        },
        "id": "VPSI49Kt86Cn",
        "outputId": "8235730c-46a3-45ab-b380-a64f34182199"
      },
      "outputs": [
        {
          "data": {
            "text/plain": [
              "{'database': 'postgresql', 'language': 'python', 'library': 'pandas'}"
            ]
          },
          "execution_count": 2,
          "metadata": {},
          "output_type": "execute_result"
        }
      ],
      "source": [
        "# Define a dictionary of data science skills\n",
        "job_type_skills = {\n",
        "    'database': 'postgresql',\n",
        "    'language': 'python',\n",
        "    'library': 'pandas'\n",
        "}\n",
        "\n",
        "job_type_skills"
      ]
    },
    {
      "cell_type": "markdown",
      "metadata": {
        "id": "jnvnh2t_9-FY"
      },
      "source": [
        "## Get Items\n",
        "\n",
        "To get an item in the dictionary there are two methods:"
      ]
    },
    {
      "cell_type": "markdown",
      "metadata": {
        "id": "zkVOEXIBZhuy"
      },
      "source": [
        "### Keys"
      ]
    },
    {
      "cell_type": "markdown",
      "metadata": {
        "id": "e3uvFGYNZhuz"
      },
      "source": [
        "#### Get Key\n",
        "\n",
        "Refer to its key name inside square brackets."
      ]
    },
    {
      "cell_type": "code",
      "execution_count": 3,
      "metadata": {
        "colab": {
          "base_uri": "https://localhost:8080/"
        },
        "id": "m5mjrDqU-CKX",
        "outputId": "7c9b3356-04ea-4529-8a1e-11e7fbaa5eae"
      },
      "outputs": [
        {
          "data": {
            "text/plain": [
              "'python'"
            ]
          },
          "execution_count": 3,
          "metadata": {},
          "output_type": "execute_result"
        }
      ],
      "source": [
        "# Define a dictionary of data science skills\n",
        "job_type_skills = {\n",
        "    'database': 'postgresql',\n",
        "    'language': 'python',\n",
        "    'library': 'pandas'\n",
        "}\n",
        "\n",
        "job_type_skills['language']"
      ]
    },
    {
      "cell_type": "markdown",
      "metadata": {
        "id": "MC1AFsREZhuz"
      },
      "source": [
        "#### Get()\n",
        "\n",
        "Or you can also use `get()` to retrieve the value for a given key."
      ]
    },
    {
      "cell_type": "code",
      "execution_count": 4,
      "metadata": {
        "id": "UxfEDo4sZhu0",
        "outputId": "c3b213af-458b-478a-dff4-71f7df79e0ee"
      },
      "outputs": [
        {
          "data": {
            "text/plain": [
              "'python'"
            ]
          },
          "execution_count": 4,
          "metadata": {},
          "output_type": "execute_result"
        }
      ],
      "source": [
        "job_type_skills.get('language')"
      ]
    },
    {
      "cell_type": "markdown",
      "metadata": {
        "id": "JODafUAfZhu0"
      },
      "source": [
        "### Keys()\n",
        "\n",
        "If you want to see all the keys in the dictionary use `keys()`."
      ]
    },
    {
      "cell_type": "code",
      "execution_count": 5,
      "metadata": {
        "id": "3rYm11S9Zhu0",
        "outputId": "95715aff-50ab-4b39-d48e-8daff91fd58e"
      },
      "outputs": [
        {
          "data": {
            "text/plain": [
              "dict_keys(['database', 'language', 'library'])"
            ]
          },
          "execution_count": 5,
          "metadata": {},
          "output_type": "execute_result"
        }
      ],
      "source": [
        "job_type_skills.keys()\n"
      ]
    },
    {
      "cell_type": "markdown",
      "metadata": {
        "id": "3O-yQMrIZhu1"
      },
      "source": [
        "If the key doesn't exist, you can specify a default value to return instead."
      ]
    },
    {
      "cell_type": "code",
      "execution_count": 6,
      "metadata": {
        "id": "SZ3oqtj2Zhu1",
        "outputId": "b8c6ff1c-be84-4071-d008-0a24bdcc6ff2"
      },
      "outputs": [
        {
          "data": {
            "text/plain": [
              "'not found'"
            ]
          },
          "execution_count": 6,
          "metadata": {},
          "output_type": "execute_result"
        }
      ],
      "source": [
        "job_type_skills.get('analytics', 'not found')"
      ]
    },
    {
      "cell_type": "markdown",
      "metadata": {
        "id": "p9B8WqdKZhu1"
      },
      "source": [
        "### Values()\n",
        "\n",
        "If you want to see all the values in the dictionary use `values()`."
      ]
    },
    {
      "cell_type": "code",
      "execution_count": 7,
      "metadata": {
        "id": "huhJfL7lZhu2",
        "outputId": "6a2292c3-1614-48d1-cfb6-02673da891af"
      },
      "outputs": [
        {
          "data": {
            "text/plain": [
              "dict_values(['postgresql', 'python', 'pandas'])"
            ]
          },
          "execution_count": 7,
          "metadata": {},
          "output_type": "execute_result"
        }
      ],
      "source": [
        "job_type_skills.values()\n"
      ]
    },
    {
      "cell_type": "markdown",
      "metadata": {
        "id": "FzH9kyxqZhu2"
      },
      "source": [
        "### Items()\n",
        "\n",
        "To return the dictonary's key-value pairs."
      ]
    },
    {
      "cell_type": "code",
      "execution_count": 8,
      "metadata": {
        "id": "4_hunKFWZhu2",
        "outputId": "c855b780-6c70-4cf9-d02e-5f1a86d8b901"
      },
      "outputs": [
        {
          "data": {
            "text/plain": [
              "dict_items([('database', 'postgresql'), ('language', 'python'), ('library', 'pandas')])"
            ]
          },
          "execution_count": 8,
          "metadata": {},
          "output_type": "execute_result"
        }
      ],
      "source": [
        "job_type_skills.items()"
      ]
    },
    {
      "cell_type": "markdown",
      "metadata": {
        "id": "G6J779ThZhu2"
      },
      "source": [
        "## Pop()\n",
        "\n",
        "To remove a key from the dictionary and return its value use `.pop()`."
      ]
    },
    {
      "cell_type": "code",
      "execution_count": 9,
      "metadata": {
        "id": "YO4zOJJiZhu2",
        "outputId": "70f3d9c4-c97a-4526-854c-9d340e131e4c"
      },
      "outputs": [
        {
          "data": {
            "text/plain": [
              "{'database': 'postgresql', 'language': 'python'}"
            ]
          },
          "execution_count": 9,
          "metadata": {},
          "output_type": "execute_result"
        }
      ],
      "source": [
        "job_type_skills.pop('library')\n",
        "job_type_skills"
      ]
    },
    {
      "cell_type": "markdown",
      "metadata": {
        "id": "HO6scXU8DfcI"
      },
      "source": [
        "## Add Items\n",
        "\n",
        "You can add items by either:"
      ]
    },
    {
      "cell_type": "markdown",
      "metadata": {
        "id": "VuZZzQTiZhu3"
      },
      "source": [
        "### Direct Assignment\n",
        "\n",
        "Direct assignment which assigns a value to a new or existing key directly."
      ]
    },
    {
      "cell_type": "code",
      "execution_count": 10,
      "metadata": {
        "id": "Pi22uuTiZhu3",
        "outputId": "b7b031b7-c60b-4bba-d781-00981f1af2a1"
      },
      "outputs": [
        {
          "data": {
            "text/plain": [
              "{'database': 'postgresql', 'language': 'python', 'framework': 'flask'}"
            ]
          },
          "execution_count": 10,
          "metadata": {},
          "output_type": "execute_result"
        }
      ],
      "source": [
        "# Direct assignment\n",
        "job_type_skills['framework'] = 'flask'\n",
        "\n",
        "# Return dictionary\n",
        "job_type_skills"
      ]
    },
    {
      "cell_type": "markdown",
      "metadata": {
        "id": "2ameM2LpZhu3"
      },
      "source": [
        "### Update()\n",
        "\n",
        "Use the `update()` method which can add multiple items at once."
      ]
    },
    {
      "cell_type": "markdown",
      "metadata": {
        "id": "LTDbrdxhZhu3"
      },
      "source": [
        "🪲 **Debugging**\n",
        "\n",
        "**This is an intentional mistake**\n",
        "\n",
        "This is used to demonstrate debugging.\n",
        "\n",
        "Errors:\n",
        "\n",
        "Forgot a colon `:` in the first key:value pair.\n",
        "\n",
        "```python\n",
        "'language' 'python'\n",
        "```\n",
        "\n",
        "Forgot the end bracket `}`.\n",
        "\n",
        "  ```python\n",
        "  job_type_skills.update({'language' 'python', 'version_control': 'git')\n",
        "  ```\n",
        "\n",
        "Steps to Debug:\n",
        "\n",
        "1. Look at the actual error, can you tell what the problem is?\n",
        "2. If not, then look it up:\n",
        "  1. Use a chatbot like ChatGPT or Claude\n",
        "  2. Look it up using Google"
      ]
    },
    {
      "cell_type": "code",
      "execution_count": 11,
      "metadata": {
        "id": "fO2OTpnOZhu3",
        "outputId": "3373864a-3b7f-48c3-addb-341ebf43cf2a"
      },
      "outputs": [
        {
          "ename": "SyntaxError",
          "evalue": "closing parenthesis ')' does not match opening parenthesis '{' (261982396.py, line 2)",
          "output_type": "error",
          "traceback": [
            "\u001b[1;36m  File \u001b[1;32m\"C:\\Users\\HOME\\AppData\\Local\\Temp\\ipykernel_8952\\261982396.py\"\u001b[1;36m, line \u001b[1;32m2\u001b[0m\n\u001b[1;33m    job_type_skills.update({'cloud': 'google cloud', 'version_control': 'git')\u001b[0m\n\u001b[1;37m                                                                             ^\u001b[0m\n\u001b[1;31mSyntaxError\u001b[0m\u001b[1;31m:\u001b[0m closing parenthesis ')' does not match opening parenthesis '{'\n"
          ]
        }
      ],
      "source": [
        "# Update\n",
        "job_type_skills.update({'cloud': 'google cloud', 'version_control': 'git')\n",
        "\n",
        "# Return dictionary\n",
        "job_type_skills"
      ]
    },
    {
      "cell_type": "markdown",
      "metadata": {
        "id": "MgVL0DQBZhu4"
      },
      "source": [
        "This is the correct code ✅."
      ]
    },
    {
      "cell_type": "code",
      "execution_count": 12,
      "metadata": {
        "id": "5gq8hCPgZhu4",
        "outputId": "7436868c-2bad-44ef-bfa8-8bd1835b120f"
      },
      "outputs": [
        {
          "data": {
            "text/plain": [
              "{'database': 'postgresql',\n",
              " 'language': 'python',\n",
              " 'framework': 'flask',\n",
              " 'cloud': 'google cloud',\n",
              " 'version_control': 'git'}"
            ]
          },
          "execution_count": 12,
          "metadata": {},
          "output_type": "execute_result"
        }
      ],
      "source": [
        "# Update\n",
        "job_type_skills.update({'cloud': 'google cloud', 'version_control': 'git'})\n",
        "\n",
        "# Return dictionary\n",
        "job_type_skills"
      ]
    },
    {
      "cell_type": "markdown",
      "metadata": {
        "id": "sMH_r8VbV2Vt"
      },
      "source": [
        "## Any object can be stored in a dictionary\n",
        "\n",
        "You can also have lists within dictionaries. We'll update the skills with adding a list of programming languages in the `language` key using the `update` function."
      ]
    },
    {
      "cell_type": "code",
      "execution_count": 13,
      "metadata": {
        "colab": {
          "base_uri": "https://localhost:8080/"
        },
        "id": "w-ogcGHsV7Ii",
        "outputId": "de9950df-0311-4171-acfa-64ee7d0c47af"
      },
      "outputs": [
        {
          "data": {
            "text/plain": [
              "{'database': 'postgresql',\n",
              " 'language': ['python', 'r'],\n",
              " 'framework': 'flask',\n",
              " 'cloud': 'google cloud',\n",
              " 'version_control': 'git'}"
            ]
          },
          "execution_count": 13,
          "metadata": {},
          "output_type": "execute_result"
        }
      ],
      "source": [
        "# Define a dictionary of data science skills\n",
        "\n",
        "job_type_skills.update({'language': ['python', 'r']})\n",
        "\n",
        "job_type_skills"
      ]
    }
  ],
  "metadata": {
    "colab": {
      "provenance": []
    },
    "kernelspec": {
      "display_name": "Python 3",
      "name": "python3"
    },
    "language_info": {
      "codemirror_mode": {
        "name": "ipython",
        "version": 3
      },
      "file_extension": ".py",
      "mimetype": "text/x-python",
      "name": "python",
      "nbconvert_exporter": "python",
      "pygments_lexer": "ipython3",
      "version": "3.11.8"
    }
  },
  "nbformat": 4,
  "nbformat_minor": 0
}
