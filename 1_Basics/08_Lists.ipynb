{
  "cells": [
    {
      "cell_type": "markdown",
      "metadata": {
        "id": "jMyH89VS5H7L"
      },
      "source": [
        "# Lists\n",
        "\n"
      ]
    },
    {
      "cell_type": "markdown",
      "metadata": {
        "id": "BUNKM9sKY7xn"
      },
      "source": [
        "Here's a quick comparison between these 4 container data types:\n",
        "\n",
        "| Feature          | List                                  | Dictionary                           | Set                                | Tuple                             |\n",
        "|------------------|---------------------------------------|--------------------------------------|------------------------------------|-----------------------------------|\n",
        "| Syntax           | `[item1, item2, ...]`                 | `{'key1': value1, 'key2': value2}`   | `{item1, item2, ...}`              | `(item1, item2, ...)` or `item,`  |\n",
        "| Type of Data     | Sequence                              | Mapping                              | Set                                | Sequence                          |\n",
        "| Order            | Ordered                               | Unordered                            | Unordered                          | Ordered                           |\n",
        "| Indexing         | Yes (by index)                        | Yes (by key)                         | No                                 | Yes (by index)                    |\n",
        "| Duplicate Values | Allowed                               | Values can be duplicated, keys cannot| Not allowed                        | Allowed                           |\n",
        "| Mutability       | Mutable                               | Mutable                              | Mutable                            | Immutable                         |\n",
        "| Usage            | For a collection of ordered items     | For key-value pairs                  | For unique items                   | For fixed data                    |"
      ]
    },
    {
      "cell_type": "markdown",
      "metadata": {
        "id": "V3BwZh5Z5KgW"
      },
      "source": [
        "## Notes\n",
        "\n",
        "- Used to store multiple ordered items in a single variable.\n",
        "- Created using `[` and `]`.\n",
        "- We won't be going into everything that we can do in a list.\n",
        "- Common data types in lists: Integer, Float, String, Boolean, List, Dictionary, Tuple, Set, Object.\n",
        "- You can include lists within lists.\n",
        "- Easy to store information.  \n",
        "\n",
        "## Importance\n",
        "\n",
        "Versatile for storing sequences of data. Pandas can convert lists into Series or DataFrame objects for analysis.\n",
        "\n",
        "## Examples\n",
        "\n",
        "Create a list of job skills that are common to data science roles."
      ]
    },
    {
      "cell_type": "code",
      "execution_count": 1,
      "metadata": {
        "id": "TCoIQTTCY7xp",
        "outputId": "1932c6e9-c685-4476-9f17-1b4e96617834"
      },
      "outputs": [
        {
          "data": {
            "text/plain": [
              "['sql', 'tableau', 'excel']"
            ]
          },
          "execution_count": 1,
          "metadata": {},
          "output_type": "execute_result"
        }
      ],
      "source": [
        "# Define a list of data science jobs\n",
        "job_skills = ['sql','tableau','excel']\n",
        "job_skills"
      ]
    },
    {
      "cell_type": "markdown",
      "metadata": {
        "id": "VRmreiQB1N78"
      },
      "source": [
        "### Indexing\n",
        "\n",
        "What if we want to get a specific item in a list? We'd use list indexing.\n",
        "\n",
        "Lists are indexed, which means each item has a numerical position, so you can access it by referring to the index number.\n",
        "\n",
        "**Note: The first item has index 0.**\n",
        "\n",
        "[Visual Example](https://drive.google.com/file/d/1VGn2YJVhhcnJFPz98QUcFgU8OeZA1zKK/view?usp=drive_link)\n",
        "\n",
        "For this example if want to get 'tableau' in this list we would use the index `1`."
      ]
    },
    {
      "cell_type": "code",
      "execution_count": 2,
      "metadata": {
        "colab": {
          "base_uri": "https://localhost:8080/"
        },
        "id": "p8yVsSFL5orJ",
        "outputId": "fe63780b-2b14-4031-f1ab-394d89a63280"
      },
      "outputs": [
        {
          "data": {
            "text/plain": [
              "'tableau'"
            ]
          },
          "execution_count": 2,
          "metadata": {},
          "output_type": "execute_result"
        }
      ],
      "source": [
        "# Get a specific item in the list\n",
        "job_skills[1]"
      ]
    },
    {
      "cell_type": "markdown",
      "metadata": {
        "id": "4dV-4gSDCBHt"
      },
      "source": [
        "### Change Value\n",
        "\n",
        "To change the value of a specific item, refer to its index number. Below we will change the 'tableau' skill (at index `1`) to 'bigquery'."
      ]
    },
    {
      "cell_type": "code",
      "execution_count": 3,
      "metadata": {
        "colab": {
          "base_uri": "https://localhost:8080/"
        },
        "id": "V60LL3MFTv9H",
        "outputId": "8be6d086-be07-4749-e43e-cfb004153c98"
      },
      "outputs": [
        {
          "data": {
            "text/plain": [
              "['sql', 'bigquery', 'excel']"
            ]
          },
          "execution_count": 3,
          "metadata": {},
          "output_type": "execute_result"
        }
      ],
      "source": [
        "# Change the value of an item\n",
        "job_skills[1] ='bigquery'\n",
        "\n",
        "job_skills"
      ]
    },
    {
      "cell_type": "markdown",
      "metadata": {
        "id": "Wt6Ythh4Y7xt"
      },
      "source": [
        "### Methods\n",
        "\n",
        "* **Methods** are functions that belong to an object\n",
        "    * We learned a little about functions before but a reminder: it's a block of code designed to do a specific task.\n",
        "    * In a bit we'll be creating our own functions. But now we'll just be using functions given to us.\n",
        "* But all you need to know right now is that **methods** have this notation: `object.method()`\n"
      ]
    },
    {
      "cell_type": "markdown",
      "metadata": {
        "id": "wrhJZrIn6PuO"
      },
      "source": [
        "### Append()\n",
        "\n",
        "If you need to add an item at the end of a list you can use `append()` method. Below we'll add in 'looker' as a skill at the end of our list.\n",
        "\n",
        "We'll get into methods more later."
      ]
    },
    {
      "cell_type": "code",
      "execution_count": 4,
      "metadata": {
        "colab": {
          "base_uri": "https://localhost:8080/"
        },
        "id": "-FX03XO263VL",
        "outputId": "10d37df9-4d02-494b-e6ea-7ab43749bea6"
      },
      "outputs": [
        {
          "data": {
            "text/plain": [
              "['sql', 'bigquery', 'excel', 'looker']"
            ]
          },
          "execution_count": 4,
          "metadata": {},
          "output_type": "execute_result"
        }
      ],
      "source": [
        "## Add a job to the list\n",
        "job_skills.append('looker')\n",
        "\n",
        "job_skills"
      ]
    },
    {
      "cell_type": "markdown",
      "metadata": {
        "id": "v7vcuTBdY7xu"
      },
      "source": [
        "### Length()\n",
        "\n",
        "If you want to see how many items are in a list use the `len()` function."
      ]
    },
    {
      "cell_type": "code",
      "execution_count": 5,
      "metadata": {
        "id": "kQSV-DYHY7xu",
        "outputId": "8a6cbde0-0067-40da-bd14-854e73190b73"
      },
      "outputs": [
        {
          "data": {
            "text/plain": [
              "4"
            ]
          },
          "execution_count": 5,
          "metadata": {},
          "output_type": "execute_result"
        }
      ],
      "source": [
        "len(job_skills)"
      ]
    },
    {
      "cell_type": "markdown",
      "metadata": {
        "id": "a5_y9-g45Gel"
      },
      "source": [
        "### Insert\n",
        "\n",
        "To insert a list item at a specified place (index), use `insert`. Here we are inserting the 'python' skill after 'bigquery'. So we will insert it at the index of `2`."
      ]
    },
    {
      "cell_type": "markdown",
      "metadata": {
        "id": "UV2wcj6rY7xu"
      },
      "source": [
        "🪲 **Debugging**\n",
        "\n",
        "**This is an intentional mistake**\n",
        "\n",
        "This is used to demonstrate debugging.\n",
        "\n",
        "Error: Incorrect syntax for `insert`. Forgot the comma.\n",
        "\n",
        "```python\n",
        "job_skills.insert(2'python')\n",
        "```\n",
        "\n",
        "Steps to Debug:\n",
        "\n",
        "1. Look at the actual error, can you tell what the problem is?\n",
        "2. If not, then look it up:\n",
        "  1. Use a chatbot like ChatGPT or Claude\n",
        "  2. Look it up using Google"
      ]
    },
    {
      "cell_type": "code",
      "execution_count": 6,
      "metadata": {
        "id": "J7FeU1PrY7xv",
        "outputId": "38525d20-2a98-433a-8f01-82dcb55cfdb2"
      },
      "outputs": [
        {
          "ename": "SyntaxError",
          "evalue": "invalid syntax. Perhaps you forgot a comma? (2271578327.py, line 2)",
          "output_type": "error",
          "traceback": [
            "\u001b[1;36m  File \u001b[1;32m\"C:\\Users\\HOME\\AppData\\Local\\Temp\\ipykernel_19232\\2271578327.py\"\u001b[1;36m, line \u001b[1;32m2\u001b[0m\n\u001b[1;33m    job_skills.insert(2'python')\u001b[0m\n\u001b[1;37m                      ^\u001b[0m\n\u001b[1;31mSyntaxError\u001b[0m\u001b[1;31m:\u001b[0m invalid syntax. Perhaps you forgot a comma?\n"
          ]
        }
      ],
      "source": [
        "# Insert an item into the list\n",
        "job_skills.insert(2'python')\n",
        "\n",
        "job_skills"
      ]
    },
    {
      "cell_type": "markdown",
      "metadata": {
        "id": "1NI-BPpjY7xv"
      },
      "source": [
        "This is the correct code ✅."
      ]
    },
    {
      "cell_type": "code",
      "execution_count": 7,
      "metadata": {
        "colab": {
          "base_uri": "https://localhost:8080/"
        },
        "id": "X1k2Q-oE7BNI",
        "outputId": "bc8a6bef-64e9-48c0-a276-a7f6c4877096"
      },
      "outputs": [
        {
          "data": {
            "text/plain": [
              "['sql', 'bigquery', 'python', 'excel', 'looker']"
            ]
          },
          "execution_count": 7,
          "metadata": {},
          "output_type": "execute_result"
        }
      ],
      "source": [
        "# Insert an item into the list\n",
        "job_skills.insert(2,'python')\n",
        "\n",
        "job_skills"
      ]
    },
    {
      "cell_type": "markdown",
      "metadata": {
        "id": "pg_36GpO8Xev"
      },
      "source": [
        "### Remove()\n",
        "\n",
        "To remove a specific item use the `remove()` method. Let's remove the 'looker' skill."
      ]
    },
    {
      "cell_type": "code",
      "execution_count": 8,
      "metadata": {
        "colab": {
          "base_uri": "https://localhost:8080/"
        },
        "id": "O_Ad8_2t8eFY",
        "outputId": "cae57cd9-e87f-4f10-d744-574f005bccf3"
      },
      "outputs": [
        {
          "data": {
            "text/plain": [
              "['sql', 'bigquery', 'python', 'excel']"
            ]
          },
          "execution_count": 8,
          "metadata": {},
          "output_type": "execute_result"
        }
      ],
      "source": [
        "# Remove an item from the list\n",
        "job_skills.remove('looker')\n",
        "\n",
        "job_skills"
      ]
    },
    {
      "cell_type": "markdown",
      "metadata": {
        "id": "9PPM0V8iY7xw"
      },
      "source": [
        "### Join Lists\n",
        "\n",
        "There are a few ways to join (or concatenate) two or more lists.\n",
        "\n",
        "1. Concatenate using the `+` operator.\n"
      ]
    },
    {
      "cell_type": "code",
      "execution_count": 9,
      "metadata": {
        "id": "Tv5X08mqY7xw",
        "outputId": "ce59e0c9-55bb-420b-fed1-84531f2cd849"
      },
      "outputs": [
        {
          "data": {
            "text/plain": [
              "['SQL', 'Tableau', 'Excel']"
            ]
          },
          "execution_count": 9,
          "metadata": {},
          "output_type": "execute_result"
        }
      ],
      "source": [
        "# Concatenate\n",
        "skills1 = ['SQL', 'Tableau']\n",
        "skills2 = ['Excel']\n",
        "\n",
        "skills3 = skills1 + skills2\n",
        "skills3"
      ]
    },
    {
      "cell_type": "markdown",
      "metadata": {
        "id": "ln2yqJznY7xw"
      },
      "source": [
        "2. Appending all items from the first list to the second using `.append()`. Here we're appending all items from `skills3` to `skills4` list. *Don't worry we'll be going into `for` loops later but here's a preview of it.*\n"
      ]
    },
    {
      "cell_type": "code",
      "execution_count": 10,
      "metadata": {
        "id": "KOJ0g20DY7xw",
        "outputId": "4d0a6d64-f921-4bb7-9d35-76119fa52448"
      },
      "outputs": [
        {
          "data": {
            "text/plain": [
              "['Python', 'Power BI', 'SQL', 'Tableau', 'Excel']"
            ]
          },
          "execution_count": 10,
          "metadata": {},
          "output_type": "execute_result"
        }
      ],
      "source": [
        "# Append\n",
        "skills4 = ['Python', 'Power BI']\n",
        "\n",
        "# Append all items from skills3 to skills4 list\n",
        "for x in skills3:\n",
        "    skills4.append(x)\n",
        "\n",
        "skills4"
      ]
    },
    {
      "cell_type": "markdown",
      "metadata": {
        "id": "gdaCwLYDY7xx"
      },
      "source": [
        "3. Use `extend()` method to add elements from one list to another list. We are adding elements from the `skills4` list to the `skills5` list.\n",
        "\n"
      ]
    },
    {
      "cell_type": "code",
      "execution_count": 11,
      "metadata": {
        "id": "DJ12XsRYY7xx",
        "outputId": "2aaf537a-2126-4160-c5e5-228c526aebbc"
      },
      "outputs": [
        {
          "data": {
            "text/plain": [
              "['Statistics',\n",
              " 'Machine Learning',\n",
              " 'Python',\n",
              " 'Power BI',\n",
              " 'SQL',\n",
              " 'Tableau',\n",
              " 'Excel']"
            ]
          },
          "execution_count": 11,
          "metadata": {},
          "output_type": "execute_result"
        }
      ],
      "source": [
        "# Extend\n",
        "skills5 = ['Statistics', 'Machine Learning']\n",
        "\n",
        "skills5.extend(skills4)\n",
        "\n",
        "skills5"
      ]
    },
    {
      "cell_type": "markdown",
      "metadata": {
        "id": "37Nm95ZDY7xx"
      },
      "source": [
        "### Join()\n",
        "\n",
        "The `.join` method is used for concatenating a sequence of strings together with a specified separator. You need to add a specific separator (e.g. `', '`) between each element during the concatenation process. This is used to format output for readability.\n",
        "\n",
        "You can use this for lists, tuples and more. But in our case we'll mostly be using it for either lists or tuples. For lists specifically we are combining multiple strings from a list."
      ]
    },
    {
      "cell_type": "code",
      "execution_count": 12,
      "metadata": {
        "id": "Pw_A0aqwY7xx"
      },
      "outputs": [],
      "source": [
        "skills = ['Python', 'SQL', 'Excel']"
      ]
    },
    {
      "cell_type": "code",
      "execution_count": 13,
      "metadata": {
        "id": "4bEr1EukY7xx",
        "outputId": "06852f49-f27a-4019-ff2a-a6db4f054855"
      },
      "outputs": [
        {
          "name": "stdout",
          "output_type": "stream",
          "text": [
            "I have these skills: Python, SQL, Excel\n"
          ]
        }
      ],
      "source": [
        "# Use concatenate print formatting\n",
        "print('I have these skills: ' +  ', '.join(skills))"
      ]
    },
    {
      "cell_type": "markdown",
      "metadata": {
        "id": "dsTw8S9gY7xx"
      },
      "source": [
        "### Slicing Lists\n",
        "\n",
        "Slicing Syntax:\n",
        "* Syntax: `list[start:end:step]`  \n",
        "    * `start`: The starting index (inclusive)\n",
        "    * `end`: The ending index (exclusive)\n",
        "    * `step`: Steps to take between items"
      ]
    },
    {
      "cell_type": "code",
      "execution_count": 14,
      "metadata": {
        "id": "TG4uPJV4Y7xy",
        "outputId": "0548cef4-9176-4e44-c9f3-cccfa9fe36a1"
      },
      "outputs": [
        {
          "data": {
            "text/plain": [
              "['Python', 'SQL']"
            ]
          },
          "execution_count": 14,
          "metadata": {},
          "output_type": "execute_result"
        }
      ],
      "source": [
        "skills = ['Python', 'SQL', 'Excel']\n",
        "\n",
        "# Extract the first two items\n",
        "first_two = skills[0:2]\n",
        "first_two"
      ]
    },
    {
      "cell_type": "markdown",
      "metadata": {
        "id": "GtsUmeZhY7xy"
      },
      "source": [
        "`start` has a default value of `0` and `stop` has a default value of the last value in the list.\n",
        "\n",
        "Therefore: you can omit either when one of these values."
      ]
    },
    {
      "cell_type": "code",
      "execution_count": 15,
      "metadata": {
        "id": "j-_RPgKBY7xy",
        "outputId": "8975eb88-e548-4615-c663-d248ee803916"
      },
      "outputs": [
        {
          "data": {
            "text/plain": [
              "['Python', 'SQL', 'Excel']"
            ]
          },
          "execution_count": 15,
          "metadata": {},
          "output_type": "execute_result"
        }
      ],
      "source": [
        "full_list = skills[:]\n",
        "full_list"
      ]
    },
    {
      "cell_type": "code",
      "execution_count": 16,
      "metadata": {
        "id": "3ayJ_ZSyY7xy",
        "outputId": "ad58085c-dc95-44e2-e720-55869ae8abb4"
      },
      "outputs": [
        {
          "data": {
            "text/plain": [
              "['Python', 'SQL']"
            ]
          },
          "execution_count": 16,
          "metadata": {},
          "output_type": "execute_result"
        }
      ],
      "source": [
        "also_first_two = skills[:2]\n",
        "also_first_two"
      ]
    },
    {
      "cell_type": "code",
      "execution_count": 17,
      "metadata": {
        "id": "aO8mjPi-Y7xy",
        "outputId": "81cc5fec-2dd4-4ba8-ea66-44e5b46a565f"
      },
      "outputs": [
        {
          "data": {
            "text/plain": [
              "['SQL', 'Excel']"
            ]
          },
          "execution_count": 17,
          "metadata": {},
          "output_type": "execute_result"
        }
      ],
      "source": [
        "last_two = skills[1:]\n",
        "last_two"
      ]
    },
    {
      "cell_type": "code",
      "execution_count": 18,
      "metadata": {
        "id": "l0I0UmKtY7xz",
        "outputId": "a3005ff7-4332-4e22-8aa2-685dd4205c3b"
      },
      "outputs": [
        {
          "data": {
            "text/plain": [
              "['Python', 'SQL', 'Excel']"
            ]
          },
          "execution_count": 18,
          "metadata": {},
          "output_type": "execute_result"
        }
      ],
      "source": [
        "last_one = skills[-3:]\n",
        "last_one"
      ]
    },
    {
      "cell_type": "markdown",
      "metadata": {
        "id": "IXfHB7rUY7xz"
      },
      "source": [
        "For `step` the default value is `1`, but if we want to change it up:"
      ]
    },
    {
      "cell_type": "code",
      "execution_count": 19,
      "metadata": {
        "id": "g7F1ZavcY7xz",
        "outputId": "0fb8c38a-4e70-41d6-ff15-8dff9f9aa2f1"
      },
      "outputs": [
        {
          "data": {
            "text/plain": [
              "['Python', 'Excel', 'Java']"
            ]
          },
          "execution_count": 19,
          "metadata": {},
          "output_type": "execute_result"
        }
      ],
      "source": [
        "skills = ['Python', 'SQL', 'Excel', 'R', 'Java']\n",
        "\n",
        "# Extract every second item starting from the first\n",
        "every_second = skills[0::2]\n",
        "every_second"
      ]
    },
    {
      "cell_type": "markdown",
      "metadata": {
        "id": "iufHjuHWY7x5"
      },
      "source": [
        "### Unpack List\n",
        "\n",
        "To unpack a list (unpacking is when you assign each value in a list to a variable in a single statement) you can assign the list elements to variables directly."
      ]
    },
    {
      "cell_type": "code",
      "execution_count": 20,
      "metadata": {
        "id": "FE29jQi3Y7x6",
        "outputId": "0a05a98a-ca1e-466b-9a98-34321b96a950"
      },
      "outputs": [
        {
          "name": "stdout",
          "output_type": "stream",
          "text": [
            "sql\n",
            "bigquery\n",
            "python\n",
            "excel\n"
          ]
        }
      ],
      "source": [
        "# Unpacking the list\n",
        "skill1, skill2, skill3, skill4 = job_skills\n",
        "\n",
        "# Printing the unpacked variables\n",
        "print(skill1)\n",
        "print(skill2)\n",
        "print(skill3)\n",
        "print(skill4)"
      ]
    },
    {
      "cell_type": "markdown",
      "metadata": {
        "id": "5vm-LDqRY7x6"
      },
      "source": [
        "### Extend Unpack List\n",
        "\n",
        "To extend unpack a list, is when you assign a subset of elements to a variable as a list."
      ]
    },
    {
      "cell_type": "code",
      "execution_count": 21,
      "metadata": {
        "id": "P3Ho5NYyY7x7",
        "outputId": "512c1ba3-d159-43a3-99be-b3d958d81656"
      },
      "outputs": [
        {
          "name": "stdout",
          "output_type": "stream",
          "text": [
            "['sql', 'bigquery']\n",
            "python\n",
            "excel\n"
          ]
        }
      ],
      "source": [
        "# Unpacking the sql skills together and then unpacking the rest of the skills\n",
        "*sql_skills, skill3, skill4 = job_skills\n",
        "\n",
        "print(sql_skills)  # List of the SQL skills\n",
        "print(skill3)\n",
        "print(skill4)"
      ]
    }
  ],
  "metadata": {
    "colab": {
      "provenance": []
    },
    "kernelspec": {
      "display_name": "Python 3",
      "name": "python3"
    },
    "language_info": {
      "codemirror_mode": {
        "name": "ipython",
        "version": 3
      },
      "file_extension": ".py",
      "mimetype": "text/x-python",
      "name": "python",
      "nbconvert_exporter": "python",
      "pygments_lexer": "ipython3",
      "version": "3.11.8"
    }
  },
  "nbformat": 4,
  "nbformat_minor": 0
}
