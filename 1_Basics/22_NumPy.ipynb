{
  "cells": [
    {
      "cell_type": "markdown",
      "metadata": {
        "id": "hto_gSZTKnSA"
      },
      "source": [
        "# NumPy"
      ]
    },
    {
      "cell_type": "markdown",
      "metadata": {
        "id": "MvSaNiQVhyr0"
      },
      "source": [
        "## Notes\n",
        "\n",
        "* NumPy, which stands for Numerical Python, is foundational for numerical computing in Python.\n",
        "* Designed for scientific computation and is used extensively for data analysis because of its ability to handle large, multi-dimensional arrays and matrices efficiently.\n",
        "* Serves as the basis for many other Python data science libraries, including Pandas, due to its speed and efficiency in numerical computations.\n",
        "* A few special use cases for NumPy specifically for data analysis:\n",
        "    * Array operations\n",
        "    * Linear algebra\n",
        "    * Statistical functions\n",
        "    * Random number generation\n",
        "\n",
        "## Importance\n",
        "\n",
        "* Important for data analysis.\n",
        "* Way to store data in a structured format, making it easier to organize, access, and manipulate data.\n",
        "* Pandas library is built on top of NumPy.\n",
        "\n",
        "For more information on NumPy check out the official documentation [here](https://numpy.org/doc/1.26/)."
      ]
    },
    {
      "cell_type": "markdown",
      "metadata": {
        "id": "qPseiZXsKv5-"
      },
      "source": [
        "## Array Operations\n",
        "\n",
        "### Notes\n",
        "* Creation: **`import numpy as np; np.array([1, 2, 3])`**\n",
        "* Basic Operations:  `+`, `-`, `/`, `*` performed element-wise\n",
        "* Slicing: **`array[1:3]`**\n",
        "* Boolean Indexing: **`array[array > 0]`**\n",
        "\n",
        "### Examples\n",
        "\n",
        "Let's start with creating a fictional array with the number of years of experience required for five different data science job listings."
      ]
    },
    {
      "cell_type": "markdown",
      "metadata": {
        "id": "pj4jueJYhyr4"
      },
      "source": [
        "### Create an Array"
      ]
    },
    {
      "cell_type": "code",
      "execution_count": null,
      "metadata": {
        "id": "ErRWysgshyr7"
      },
      "outputs": [],
      "source": [
        "# Install package\n",
        "!conda install numpy"
      ]
    },
    {
      "cell_type": "code",
      "execution_count": 1,
      "metadata": {
        "id": "IlGRnq1dhyr-"
      },
      "outputs": [],
      "source": [
        "# Import Package\n",
        "import numpy as np"
      ]
    },
    {
      "cell_type": "code",
      "execution_count": 2,
      "metadata": {
        "id": "nUAqt3IrhysB"
      },
      "outputs": [],
      "source": [
        "# Example: An array representing the number of years of experience required for three different data science job listings.\n",
        "years_of_experience = np.array([1, 2, 3, 4, 5])"
      ]
    },
    {
      "cell_type": "markdown",
      "metadata": {
        "id": "-hE65rE_hysD"
      },
      "source": [
        "### Basic Operations\n",
        "\n",
        "Applying mathematics operations to the entire array."
      ]
    },
    {
      "cell_type": "markdown",
      "metadata": {
        "id": "BzeR4_XIhysE"
      },
      "source": [
        "#### Addition\n",
        "Adding 1 year to the experience requirements for each job listing."
      ]
    },
    {
      "cell_type": "code",
      "execution_count": 3,
      "metadata": {
        "id": "A81I7ePvhysE",
        "outputId": "87b4164f-f181-4bbb-eee5-4ee58ec02213"
      },
      "outputs": [
        {
          "data": {
            "text/plain": [
              "array([2, 3, 4, 5, 6])"
            ]
          },
          "execution_count": 3,
          "metadata": {},
          "output_type": "execute_result"
        }
      ],
      "source": [
        "years_of_experience_plus_one = years_of_experience + 1\n",
        "years_of_experience_plus_one"
      ]
    },
    {
      "cell_type": "markdown",
      "metadata": {
        "id": "v_iG2wglhysH"
      },
      "source": [
        "#### Subtraction\n",
        "\n",
        "Subtracting 1 year from the experience requirements for each job listing."
      ]
    },
    {
      "cell_type": "code",
      "execution_count": 4,
      "metadata": {
        "id": "x2sgWmvphysI",
        "outputId": "8e6cf48a-b9e6-44b0-af4e-e09c12b7f2b8"
      },
      "outputs": [
        {
          "data": {
            "text/plain": [
              "array([0, 1, 2, 3, 4])"
            ]
          },
          "execution_count": 4,
          "metadata": {},
          "output_type": "execute_result"
        }
      ],
      "source": [
        "years_of_experience_minus_one = years_of_experience - 1\n",
        "years_of_experience_minus_one"
      ]
    },
    {
      "cell_type": "markdown",
      "metadata": {
        "id": "ehCm2WZdhysJ"
      },
      "source": [
        "#### Division\n",
        "\n",
        "Dividing the experience requirements by 2 (maybe for a junior role)."
      ]
    },
    {
      "cell_type": "code",
      "execution_count": 5,
      "metadata": {
        "id": "et_h-BpThysJ",
        "outputId": "06646011-2134-4ce7-f261-a911259c4699"
      },
      "outputs": [
        {
          "data": {
            "text/plain": [
              "array([0.5, 1. , 1.5, 2. , 2.5])"
            ]
          },
          "execution_count": 5,
          "metadata": {},
          "output_type": "execute_result"
        }
      ],
      "source": [
        "years_of_experience_half = years_of_experience / 2\n",
        "years_of_experience_half"
      ]
    },
    {
      "cell_type": "markdown",
      "metadata": {
        "id": "29W6at7ahysK"
      },
      "source": [
        "#### Multiplication\n",
        "\n",
        "Doubling the experience requirements for each job listing."
      ]
    },
    {
      "cell_type": "code",
      "execution_count": 6,
      "metadata": {
        "id": "jOp4UtTjhysK",
        "outputId": "967c33f7-9a4f-4868-f257-08c8b7efb11b"
      },
      "outputs": [
        {
          "data": {
            "text/plain": [
              "array([ 2,  4,  6,  8, 10])"
            ]
          },
          "execution_count": 6,
          "metadata": {},
          "output_type": "execute_result"
        }
      ],
      "source": [
        "years_of_experience_double = years_of_experience * 2\n",
        "years_of_experience_double"
      ]
    },
    {
      "cell_type": "markdown",
      "metadata": {
        "id": "4r9Y-5WmhysL"
      },
      "source": [
        "### Slicing\n",
        "\n",
        "Get subset of information from the array. Let's get the experience requirements for the second and third job postings."
      ]
    },
    {
      "cell_type": "code",
      "execution_count": 7,
      "metadata": {
        "id": "I-2xZ-sbhysL",
        "outputId": "dc295312-6c2a-438d-f210-b7cdfb42e858"
      },
      "outputs": [
        {
          "data": {
            "text/plain": [
              "array([2, 3])"
            ]
          },
          "execution_count": 7,
          "metadata": {},
          "output_type": "execute_result"
        }
      ],
      "source": [
        "# Example: Selecting the experience requirement for the second and third job listings.\n",
        "second_and_third_jobs_experience = years_of_experience[1:3]\n",
        "second_and_third_jobs_experience"
      ]
    },
    {
      "cell_type": "markdown",
      "metadata": {
        "id": "5B1DTN8qhysM"
      },
      "source": [
        "### Boolean Indexing\n",
        "\n",
        "Get items from the array that meet a specific condition. For this get only the job postings that require more than 2 years of experience."
      ]
    },
    {
      "cell_type": "code",
      "execution_count": 9,
      "metadata": {
        "id": "LOc6GOPEhysN",
        "outputId": "c9175613-3c02-4190-b7e4-e5c5ac97d408"
      },
      "outputs": [
        {
          "data": {
            "text/plain": [
              "array([3, 4, 5])"
            ]
          },
          "execution_count": 9,
          "metadata": {},
          "output_type": "execute_result"
        }
      ],
      "source": [
        "# Example: Selecting only those job listings that require more than 1 year of experience.\n",
        "jobs_with_more_than_one_year_exp = years_of_experience[years_of_experience > 2]\n",
        "jobs_with_more_than_one_year_exp"
      ]
    },
    {
      "cell_type": "markdown",
      "metadata": {
        "id": "jCmPO2FpKxLC"
      },
      "source": [
        "## Math Operations\n",
        "\n",
        "### Notes\n",
        "\n",
        "* Aggregate functions:\n",
        "    * `sum`: sum\n",
        "    * `prod`: product\n",
        "    * `cumsum`: cumulative sum\n",
        "    * `cumprod`: cumulative product\n",
        "* Mathematical operations (we won't be going into this during the course):\n",
        "    * `sqrt`\n",
        "    * `exp`\n",
        "    * `log`\n",
        "    * `sin`\n",
        "    * `cos`\n",
        "\n",
        "### Examples\n",
        "\n",
        "First lets create a list with 10 yearly salaries for a Senior Data Analyst job. We're just using a combination of the `random` library to get random integers between 100000 and 150000. Then using a `for` loop to get 10 (random) values."
      ]
    },
    {
      "cell_type": "code",
      "execution_count": 10,
      "metadata": {
        "id": "7GqN_zTBhysP"
      },
      "outputs": [],
      "source": [
        "import random\n",
        "\n",
        "salary = [random.randint(100000, 150000) for num in range(10)]"
      ]
    },
    {
      "cell_type": "code",
      "execution_count": 11,
      "metadata": {
        "id": "enJPnEKehysP",
        "outputId": "15049dfa-36f2-4b58-869d-149b0ee5ca91"
      },
      "outputs": [
        {
          "data": {
            "text/plain": [
              "[137562,\n",
              " 120413,\n",
              " 106907,\n",
              " 134541,\n",
              " 115333,\n",
              " 142567,\n",
              " 124586,\n",
              " 102645,\n",
              " 138014,\n",
              " 142530]"
            ]
          },
          "execution_count": 11,
          "metadata": {},
          "output_type": "execute_result"
        }
      ],
      "source": [
        "salary"
      ]
    },
    {
      "cell_type": "markdown",
      "metadata": {
        "id": "-biVoATxhysQ"
      },
      "source": [
        "Now we'll convert this list into a NumPy array."
      ]
    },
    {
      "cell_type": "code",
      "execution_count": 12,
      "metadata": {
        "id": "bB8w2Rq8hysR",
        "outputId": "3db5caa2-101c-4343-9358-d10089ccc0aa"
      },
      "outputs": [
        {
          "data": {
            "text/plain": [
              "array([137562, 120413, 106907, 134541, 115333, 142567, 124586, 102645,\n",
              "       138014, 142530])"
            ]
          },
          "execution_count": 12,
          "metadata": {},
          "output_type": "execute_result"
        }
      ],
      "source": [
        "salary_array = np.array(salary)\n",
        "salary_array"
      ]
    },
    {
      "cell_type": "markdown",
      "metadata": {
        "id": "ftIcfcMXhysR"
      },
      "source": [
        "### Sum\n",
        "\n",
        "Calculate the total sum of the elements in the `salary_array`."
      ]
    },
    {
      "cell_type": "code",
      "execution_count": 13,
      "metadata": {
        "id": "gN6iHxb3hysS",
        "outputId": "7b113fa5-a228-4448-9c6e-08768fb58556"
      },
      "outputs": [
        {
          "data": {
            "text/plain": [
              "1265098"
            ]
          },
          "execution_count": 13,
          "metadata": {},
          "output_type": "execute_result"
        }
      ],
      "source": [
        "total_sum_salaries = np.sum(salary_array)\n",
        "total_sum_salaries"
      ]
    },
    {
      "cell_type": "markdown",
      "metadata": {
        "id": "78HPm96lhysT"
      },
      "source": [
        "### Prod\n",
        "\n",
        "Calculate the product of the elements in the `salary_array`."
      ]
    },
    {
      "cell_type": "code",
      "execution_count": 14,
      "metadata": {
        "id": "ExSiWS3QhysT",
        "outputId": "90925846-25f6-446c-b2c0-5845fd40203b"
      },
      "outputs": [
        {
          "data": {
            "text/plain": [
              "881760816"
            ]
          },
          "execution_count": 14,
          "metadata": {},
          "output_type": "execute_result"
        }
      ],
      "source": [
        "# This is a conceptual example since taking the product of a boolean series isn't common\n",
        "product_salaries = np.prod(salary_array)\n",
        "product_salaries"
      ]
    },
    {
      "cell_type": "markdown",
      "metadata": {
        "id": "k4sbZacthysU"
      },
      "source": [
        "### Cumsum (Cumulative Sum)\n",
        "\n",
        "Calculates the cumulative sum of elements of the `salary_array`. It calculates the cumulative sum at each index, meaning each element in the output array is the sum of all preceding elements including the current one from the original array.\n",
        "\n",
        "For the `salary_array`:\n",
        "\n",
        "* First element of cumsum is 110003 (just the first element)\n",
        "* Second element is 110003 + 133394 = 243397\n",
        "* Third element is 243397 + 148741 = 392138\n",
        "* And so on..."
      ]
    },
    {
      "cell_type": "code",
      "execution_count": 15,
      "metadata": {
        "id": "aB__yDd_hysV",
        "outputId": "0fb90b65-f530-474e-c5fc-e3ab5a800c1e"
      },
      "outputs": [
        {
          "data": {
            "text/plain": [
              "array([ 137562,  257975,  364882,  499423,  614756,  757323,  881909,\n",
              "        984554, 1122568, 1265098])"
            ]
          },
          "execution_count": 15,
          "metadata": {},
          "output_type": "execute_result"
        }
      ],
      "source": [
        "cumulative_sum_salaries = np.cumsum(salary_array)\n",
        "cumulative_sum_salaries"
      ]
    },
    {
      "cell_type": "markdown",
      "metadata": {
        "id": "fdDkJ5AMhysV"
      },
      "source": [
        "### Cumprod (Cumulative Product)\n",
        "\n",
        "Calculates the cumulative product of elements of the `salary_array`. It calculates the cumulative product at each index, meaning each element in the output array is the product of all preceding elements including the current one from the original array.\n",
        "\n",
        "For the `salary_array`:\n",
        "\n",
        "* First element of cumprod is 110003\n",
        "* Second element is 110003 * 133394\n",
        "* Third element is (110003 * 133394) * 148741\n",
        "* And so on..."
      ]
    },
    {
      "cell_type": "code",
      "execution_count": 16,
      "metadata": {
        "id": "2a2X5ZT3hysW",
        "outputId": "00af4254-28dc-4990-cce7-be5fc512317e"
      },
      "outputs": [
        {
          "data": {
            "text/plain": [
              "array([     137562,  -615616078, -1884174138, -1112956146, -1178578362,\n",
              "        1329218858,  1006610916,  -450767052,   437367832,   881760816])"
            ]
          },
          "execution_count": 16,
          "metadata": {},
          "output_type": "execute_result"
        }
      ],
      "source": [
        "# Cumulative product of 'job_no_degree_mention' column (conceptual example)\n",
        "cumulative_prod_salaries = np.cumprod(salary_array)\n",
        "cumulative_prod_salaries"
      ]
    },
    {
      "cell_type": "markdown",
      "metadata": {
        "id": "c9laY_nkhysX"
      },
      "source": [
        "**Note**: Due to the large numbers, the cumulative product values quickly escalate to the point where they exceed the numerical limit for typical data types in Python, leading to integer overflow. This is why some numbers appear as negative."
      ]
    },
    {
      "cell_type": "markdown",
      "metadata": {
        "id": "75hqgHJ7Kyqj"
      },
      "source": [
        "## Statistics Operations\n",
        "\n",
        "### Notes\n",
        "\n",
        "A lot of these you can also use Pandas because Pandas is built on top of NumPy. So here's a few examples but we won't be diving deep into them.\n",
        "\n",
        "* `mean`\n",
        "* `median`\n",
        "* `var`: variance\n",
        "* `std`: standard deviation\n",
        "* `min`\n",
        "* `max`"
      ]
    },
    {
      "cell_type": "markdown",
      "metadata": {
        "id": "VIeI4NqthysY"
      },
      "source": [
        "### Mean\n",
        "\n",
        "Calculate the average salary in the `salary_array`."
      ]
    },
    {
      "cell_type": "code",
      "execution_count": 17,
      "metadata": {
        "id": "Wfswdo-MhysZ",
        "outputId": "94b6eeaa-7045-4a2a-b574-78605582c5d7"
      },
      "outputs": [
        {
          "data": {
            "text/plain": [
              "126509.8"
            ]
          },
          "execution_count": 17,
          "metadata": {},
          "output_type": "execute_result"
        }
      ],
      "source": [
        "average_salary = np.mean(salary_array)\n",
        "average_salary"
      ]
    },
    {
      "cell_type": "markdown",
      "metadata": {
        "id": "0ShusMVmhysa"
      },
      "source": [
        "### Median\n",
        "\n",
        "Find the median salary in the `salary_array`."
      ]
    },
    {
      "cell_type": "code",
      "execution_count": 18,
      "metadata": {
        "id": "ZR7tI0y-hyso",
        "outputId": "21311a03-40b8-4c22-9220-cc1ff64bf6c4"
      },
      "outputs": [
        {
          "data": {
            "text/plain": [
              "129563.5"
            ]
          },
          "execution_count": 18,
          "metadata": {},
          "output_type": "execute_result"
        }
      ],
      "source": [
        "median_salary = np.median(salary_array)\n",
        "median_salary"
      ]
    },
    {
      "cell_type": "markdown",
      "metadata": {
        "id": "IOKTSpbyhysp"
      },
      "source": [
        "### Var\n",
        "\n",
        "Calculate the variance of the `salary_array`."
      ]
    },
    {
      "cell_type": "code",
      "execution_count": 19,
      "metadata": {
        "id": "xBV0k08Fhysq",
        "outputId": "292a2506-c0ea-48c4-8721-995807c939b6"
      },
      "outputs": [
        {
          "data": {
            "text/plain": [
              "217007741.95555556"
            ]
          },
          "execution_count": 19,
          "metadata": {},
          "output_type": "execute_result"
        }
      ],
      "source": [
        "salary_variance = np.var(salary_array, ddof=1)  # ddof=1 for sample variance\n",
        "salary_variance"
      ]
    },
    {
      "cell_type": "markdown",
      "metadata": {
        "id": "wRnpNIAAhysr"
      },
      "source": [
        "### Std\n",
        "\n",
        "Calculate the standard deviation of the `salary_array`."
      ]
    },
    {
      "cell_type": "code",
      "execution_count": 20,
      "metadata": {
        "id": "4zB64OArhysr",
        "outputId": "87241141-37ca-4fe9-a105-b0270f3d1765"
      },
      "outputs": [
        {
          "data": {
            "text/plain": [
              "14731.18263940664"
            ]
          },
          "execution_count": 20,
          "metadata": {},
          "output_type": "execute_result"
        }
      ],
      "source": [
        "# Standard deviation of 'salary_year_avg' column\n",
        "salary_std_dev = np.std(salary_array, ddof=1)  # ddof=1 for sample standard deviation\n",
        "salary_std_dev"
      ]
    },
    {
      "cell_type": "markdown",
      "metadata": {
        "id": "K9G9Dpwdhyss"
      },
      "source": [
        "### Min\n",
        "\n",
        "Find the minimum element in the `salary_array`."
      ]
    },
    {
      "cell_type": "code",
      "execution_count": 21,
      "metadata": {
        "id": "gKwgq8uIhyst",
        "outputId": "477ede98-fa11-4719-c73a-14b43215416a"
      },
      "outputs": [
        {
          "data": {
            "text/plain": [
              "102645"
            ]
          },
          "execution_count": 21,
          "metadata": {},
          "output_type": "execute_result"
        }
      ],
      "source": [
        "# Minimum of 'salary_year_avg' column\n",
        "min_salary = np.min(salary_array)\n",
        "min_salary"
      ]
    },
    {
      "cell_type": "markdown",
      "metadata": {
        "id": "JHNS9bJahysu"
      },
      "source": [
        "### Max\n",
        "\n",
        "Find the maximum element in the `salary_array`."
      ]
    },
    {
      "cell_type": "code",
      "execution_count": 22,
      "metadata": {
        "id": "GKH83jGBhysv",
        "outputId": "7877f3b2-c095-4225-e2ec-0affde3d68bd"
      },
      "outputs": [
        {
          "data": {
            "text/plain": [
              "142567"
            ]
          },
          "execution_count": 22,
          "metadata": {},
          "output_type": "execute_result"
        }
      ],
      "source": [
        "# Maximum of 'salary_year_avg' column\n",
        "max_salary = np.max(salary_array)\n",
        "max_salary"
      ]
    },
    {
      "cell_type": "markdown",
      "metadata": {
        "id": "tvAgsRdkK0zi"
      },
      "source": [
        "## NaN\n",
        "\n",
        "\n",
        "### Notes\n",
        "\n",
        "* Generate NaN values using `np.nan`\n",
        "* `np.nan` value is used in NumPy (and by extension, Pandas) to represent missing or undefined data\n",
        "* Helpful because it:\n",
        "    * Handles missing data.\n",
        "    * Helps with computations since it won't return errors but instead return `np.nan`.\n",
        "    * Help filter out or fill in missing data using other methods that we'll use often in the `pandas` library like `dropna()`, `fillna()`, `isna()`, or `notna()`.\n",
        "\n",
        "### Examples\n",
        "\n",
        "Below are a few examples of what you can do."
      ]
    },
    {
      "cell_type": "markdown",
      "metadata": {
        "id": "Mv5JsDEMhysw"
      },
      "source": [
        "#### Insert Missing Values\n",
        "\n",
        "If you want to insert missing values into your array intentionally, perhaps to indicate that data is expected but not yet available. You use `np.nan`."
      ]
    },
    {
      "cell_type": "code",
      "execution_count": 23,
      "metadata": {
        "id": "32VdusA6hysx",
        "outputId": "8dad54ac-186c-49ae-f4c3-89c7366ff97d"
      },
      "outputs": [
        {
          "data": {
            "text/plain": [
              "array([123124.,     nan, 145000., 128000., 110000., 149999.,     nan,\n",
              "       135000., 115000., 140000.])"
            ]
          },
          "execution_count": 23,
          "metadata": {},
          "output_type": "execute_result"
        }
      ],
      "source": [
        "salary_with_nan = np.array([123124, np.nan, 145000, 128000, 110000, 149999, np.nan, 135000, 115000, 140000], dtype=float)\n",
        "salary_with_nan"
      ]
    },
    {
      "cell_type": "markdown",
      "metadata": {
        "id": "JJWip3QThysy"
      },
      "source": [
        "#### Replace Values with NaN\n",
        "\n",
        "If you want to replace existing values with `np.nan`, for example, if certain values are considered invalid or outliers:"
      ]
    },
    {
      "cell_type": "code",
      "execution_count": 24,
      "metadata": {
        "id": "GV_JyIf9hysz",
        "outputId": "51549637-d48c-466d-e470-d0c0a468183b"
      },
      "outputs": [
        {
          "data": {
            "text/plain": [
              "array([    nan,     nan, 145000.,     nan,     nan, 149999.,     nan,\n",
              "       135000.,     nan, 140000.])"
            ]
          },
          "execution_count": 24,
          "metadata": {},
          "output_type": "execute_result"
        }
      ],
      "source": [
        "salary_with_nan[salary_with_nan < 130000] = np.nan\n",
        "salary_with_nan"
      ]
    },
    {
      "cell_type": "markdown",
      "metadata": {
        "id": "nLLjRtlahysz"
      },
      "source": [
        "## Where\n",
        "\n",
        "### Notes\n",
        "\n",
        "* `np.where` check elements of an array against a condition and to assign a value for True and another for false.\n",
        "* Syntax: `np.where(condition)`.\n",
        "* It's commonly used to conditionally replace array elements.\n",
        "\n",
        "### Example\n",
        "\n",
        "We're going to replace all values in `salary_array` that are less than 120,000 with 120,000 (to apply a minimum salary threshold). We'll use this syntax for it: `np.where(condition, x, y)`. With a `condition` and if it's true we do `x` and if not then do `y`."
      ]
    },
    {
      "cell_type": "code",
      "execution_count": 25,
      "metadata": {
        "id": "MyzQFcEohys0",
        "outputId": "0b025e62-f348-4093-b0e4-fecbf8c0f791"
      },
      "outputs": [
        {
          "data": {
            "text/plain": [
              "array([137562, 120413, 120000, 134541, 120000, 142567, 124586, 120000,\n",
              "       138014, 142530])"
            ]
          },
          "execution_count": 25,
          "metadata": {},
          "output_type": "execute_result"
        }
      ],
      "source": [
        "# Replace values using np.where\n",
        "salary_array = np.where(salary_array < 120000, 120000, salary_array)\n",
        "salary_array"
      ]
    },
    {
      "cell_type": "markdown",
      "metadata": {
        "id": "nJEQ_5Nchys0"
      },
      "source": [
        "## Random Sampling\n",
        "\n",
        "### Notes\n",
        "* Generate a random numbers or samples.\n",
        "* `np.random.normal` - draws random samples from a normal (Gaussian) distribution.\n",
        "    * Specify the Arguments:\n",
        "        * `loc`: This is the mean (`μ`) of the normal distribution.\n",
        "        * `scale`: This is the standard deviation (`σ`) of the normal distribution, representing the dispersion from the mean.\n",
        "        * `size`: This defines the number of random samples to draw, which is set to match the number of job postings.\n",
        "    * Syntax: `np.random.normal(loc=0.0, scale=1.0, size=None)`\n",
        "* A few other random sampling functions:\n",
        "    * `np.random.rand`\n",
        "    * `np.random.randn`\n",
        "    * `np.random.randint`\n",
        "    * `np.random.random`\n",
        "    * `np.random.uniform`\n",
        "    * `np.random.binomial`\n",
        "    * `np.random.poisson`\n",
        "\n",
        "### Example\n",
        "\n",
        "Let's add some random noise to the `salary_array` to simulate salary variations. We can generate random values from a normal distribution with a mean of 0 and a standard deviation of 5000, then add these values to the salaries.\n",
        "\n",
        "**Why?** This can be used to simulate salary data for job postings if actual salary data isn't available, for instance, in modeling or simulation scenarios."
      ]
    },
    {
      "cell_type": "code",
      "execution_count": 26,
      "metadata": {
        "id": "l76TjCzqhys1",
        "outputId": "06ea48fa-caf3-4114-9ee2-2dcdf08a35ba"
      },
      "outputs": [
        {
          "data": {
            "text/plain": [
              "array([140687.88050791, 120496.75617471, 109759.41987117, 136074.06286575,\n",
              "       120913.4551175 , 145744.23495657, 116217.24307817, 119825.7733002 ,\n",
              "       141614.44268603, 143806.21435203])"
            ]
          },
          "execution_count": 26,
          "metadata": {},
          "output_type": "execute_result"
        }
      ],
      "source": [
        "# Generate numbers based on normal distribution\n",
        "noise = np.random.normal(0, 5000, salary_array.size)\n",
        "# Add these numbers to the salary_array\n",
        "salary_array_with_noise = salary_array + noise\n",
        "salary_array_with_noise"
      ]
    }
  ],
  "metadata": {
    "colab": {
      "provenance": []
    },
    "kernelspec": {
      "display_name": "Python 3",
      "name": "python3"
    },
    "language_info": {
      "codemirror_mode": {
        "name": "ipython",
        "version": 3
      },
      "file_extension": ".py",
      "mimetype": "text/x-python",
      "name": "python",
      "nbconvert_exporter": "python",
      "pygments_lexer": "ipython3",
      "version": "3.11.8"
    }
  },
  "nbformat": 4,
  "nbformat_minor": 0
}
